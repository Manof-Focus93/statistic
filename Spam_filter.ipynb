{
 "cells": [
  {
   "cell_type": "code",
   "execution_count": 1,
   "metadata": {},
   "outputs": [],
   "source": [
    "import pandas as pd\n",
    "import numpy as np\n",
    "import matplotlib.pyplot as plt\n",
    "import seaborn as sns\n",
    "%matplotlib inline"
   ]
  },
  {
   "cell_type": "code",
   "execution_count": 3,
   "metadata": {},
   "outputs": [
    {
     "data": {
      "text/html": [
       "<div>\n",
       "<style scoped>\n",
       "    .dataframe tbody tr th:only-of-type {\n",
       "        vertical-align: middle;\n",
       "    }\n",
       "\n",
       "    .dataframe tbody tr th {\n",
       "        vertical-align: top;\n",
       "    }\n",
       "\n",
       "    .dataframe thead th {\n",
       "        text-align: right;\n",
       "    }\n",
       "</style>\n",
       "<table border=\"1\" class=\"dataframe\">\n",
       "  <thead>\n",
       "    <tr style=\"text-align: right;\">\n",
       "      <th></th>\n",
       "      <th>Label</th>\n",
       "      <th>SMS</th>\n",
       "    </tr>\n",
       "  </thead>\n",
       "  <tbody>\n",
       "    <tr>\n",
       "      <th>0</th>\n",
       "      <td>ham</td>\n",
       "      <td>Go until jurong point, crazy.. Available only ...</td>\n",
       "    </tr>\n",
       "    <tr>\n",
       "      <th>1</th>\n",
       "      <td>ham</td>\n",
       "      <td>Ok lar... Joking wif u oni...</td>\n",
       "    </tr>\n",
       "    <tr>\n",
       "      <th>2</th>\n",
       "      <td>spam</td>\n",
       "      <td>Free entry in 2 a wkly comp to win FA Cup fina...</td>\n",
       "    </tr>\n",
       "    <tr>\n",
       "      <th>3</th>\n",
       "      <td>ham</td>\n",
       "      <td>U dun say so early hor... U c already then say...</td>\n",
       "    </tr>\n",
       "    <tr>\n",
       "      <th>4</th>\n",
       "      <td>ham</td>\n",
       "      <td>Nah I don't think he goes to usf, he lives aro...</td>\n",
       "    </tr>\n",
       "  </tbody>\n",
       "</table>\n",
       "</div>"
      ],
      "text/plain": [
       "  Label                                                SMS\n",
       "0   ham  Go until jurong point, crazy.. Available only ...\n",
       "1   ham                      Ok lar... Joking wif u oni...\n",
       "2  spam  Free entry in 2 a wkly comp to win FA Cup fina...\n",
       "3   ham  U dun say so early hor... U c already then say...\n",
       "4   ham  Nah I don't think he goes to usf, he lives aro..."
      ]
     },
     "execution_count": 3,
     "metadata": {},
     "output_type": "execute_result"
    }
   ],
   "source": [
    "messages = pd.read_csv('SMSSpamCollection.ppt', sep='\\t', header=None, names=['Label','SMS'])\n",
    "messages.head()"
   ]
  },
  {
   "cell_type": "code",
   "execution_count": 4,
   "metadata": {},
   "outputs": [
    {
     "name": "stdout",
     "output_type": "stream",
     "text": [
      "<class 'pandas.core.frame.DataFrame'>\n",
      "RangeIndex: 5572 entries, 0 to 5571\n",
      "Data columns (total 2 columns):\n",
      "Label    5572 non-null object\n",
      "SMS      5572 non-null object\n",
      "dtypes: object(2)\n",
      "memory usage: 87.1+ KB\n"
     ]
    }
   ],
   "source": [
    "messages.info()"
   ]
  },
  {
   "cell_type": "code",
   "execution_count": 6,
   "metadata": {},
   "outputs": [
    {
     "data": {
      "text/plain": [
       "ham     86.593683\n",
       "spam    13.406317\n",
       "Name: Label, dtype: float64"
      ]
     },
     "execution_count": 6,
     "metadata": {},
     "output_type": "execute_result"
    }
   ],
   "source": [
    "messages['Label'].value_counts(normalize=True)*100"
   ]
  },
  {
   "cell_type": "code",
   "execution_count": 10,
   "metadata": {},
   "outputs": [
    {
     "data": {
      "text/plain": [
       "4458"
      ]
     },
     "execution_count": 10,
     "metadata": {},
     "output_type": "execute_result"
    }
   ],
   "source": [
    "round(len(messages)*0.8)"
   ]
  },
  {
   "cell_type": "code",
   "execution_count": 12,
   "metadata": {},
   "outputs": [
    {
     "name": "stdout",
     "output_type": "stream",
     "text": [
      "There are 4,458 data in Training set\n",
      "There are 1,114 data in Test set\n"
     ]
    }
   ],
   "source": [
    "# Create a training set & a test set\n",
    "random_dataset = messages.sample(frac=1, random_state=1)\n",
    "training_set_index = round(len(random_dataset)*0.8)\n",
    "training_set = random_dataset[:training_set_index].reset_index(drop=True)\n",
    "test_set = random_dataset[training_set_index:].reset_index(drop=True)\n",
    "print('There are {:,} data in Training set'.format(training_set.shape[0]))\n",
    "print('There are {:,} data in Test set'.format(test_set.shape[0]))"
   ]
  },
  {
   "cell_type": "code",
   "execution_count": 15,
   "metadata": {},
   "outputs": [
    {
     "data": {
      "text/html": [
       "<div>\n",
       "<style scoped>\n",
       "    .dataframe tbody tr th:only-of-type {\n",
       "        vertical-align: middle;\n",
       "    }\n",
       "\n",
       "    .dataframe tbody tr th {\n",
       "        vertical-align: top;\n",
       "    }\n",
       "\n",
       "    .dataframe thead th {\n",
       "        text-align: right;\n",
       "    }\n",
       "</style>\n",
       "<table border=\"1\" class=\"dataframe\">\n",
       "  <thead>\n",
       "    <tr style=\"text-align: right;\">\n",
       "      <th></th>\n",
       "      <th>Label</th>\n",
       "      <th>SMS</th>\n",
       "      <th>SMS_split</th>\n",
       "    </tr>\n",
       "  </thead>\n",
       "  <tbody>\n",
       "    <tr>\n",
       "      <th>0</th>\n",
       "      <td>ham</td>\n",
       "      <td>Yep, by the pretty sculpture</td>\n",
       "      <td>[yep, by, the, pretty, sculpture]</td>\n",
       "    </tr>\n",
       "    <tr>\n",
       "      <th>1</th>\n",
       "      <td>ham</td>\n",
       "      <td>Yes, princess. Are you going to make me moan?</td>\n",
       "      <td>[yes, princess, are, you, going, to, make, me,...</td>\n",
       "    </tr>\n",
       "    <tr>\n",
       "      <th>2</th>\n",
       "      <td>ham</td>\n",
       "      <td>Welp apparently he retired</td>\n",
       "      <td>[welp, apparently, he, retired]</td>\n",
       "    </tr>\n",
       "    <tr>\n",
       "      <th>3</th>\n",
       "      <td>ham</td>\n",
       "      <td>Havent.</td>\n",
       "      <td>[havent]</td>\n",
       "    </tr>\n",
       "    <tr>\n",
       "      <th>4</th>\n",
       "      <td>ham</td>\n",
       "      <td>I forgot 2 ask ü all smth.. There's a card on ...</td>\n",
       "      <td>[i, forgot, 2, ask, ü, all, smth, there, s, a,...</td>\n",
       "    </tr>\n",
       "  </tbody>\n",
       "</table>\n",
       "</div>"
      ],
      "text/plain": [
       "  Label                                                SMS  \\\n",
       "0   ham                       Yep, by the pretty sculpture   \n",
       "1   ham      Yes, princess. Are you going to make me moan?   \n",
       "2   ham                         Welp apparently he retired   \n",
       "3   ham                                            Havent.   \n",
       "4   ham  I forgot 2 ask ü all smth.. There's a card on ...   \n",
       "\n",
       "                                           SMS_split  \n",
       "0                  [yep, by, the, pretty, sculpture]  \n",
       "1  [yes, princess, are, you, going, to, make, me,...  \n",
       "2                    [welp, apparently, he, retired]  \n",
       "3                                           [havent]  \n",
       "4  [i, forgot, 2, ask, ü, all, smth, there, s, a,...  "
      ]
     },
     "execution_count": 15,
     "metadata": {},
     "output_type": "execute_result"
    }
   ],
   "source": [
    "# Split the SMS\n",
    "training_set['SMS_split'] = training_set['SMS'].str.replace('\\W',' ').str.lower().str.split()\n",
    "training_set.head()"
   ]
  },
  {
   "cell_type": "code",
   "execution_count": 17,
   "metadata": {},
   "outputs": [
    {
     "data": {
      "text/plain": [
       "7783"
      ]
     },
     "execution_count": 17,
     "metadata": {},
     "output_type": "execute_result"
    }
   ],
   "source": [
    "vocabulary = []\n",
    "for sms in training_set['SMS_split']:\n",
    "    for word in sms:\n",
    "#         vocabulary.append(word)\n",
    "        if word not in vocabulary:\n",
    "            vocabulary.append(word)\n",
    "# vocabulary = list(set(vocabulary))        \n",
    "len(vocabulary)"
   ]
  },
  {
   "cell_type": "code",
   "execution_count": 53,
   "metadata": {},
   "outputs": [
    {
     "data": {
      "text/plain": [
       "[0, 0, 0, 0, 2]"
      ]
     },
     "execution_count": 53,
     "metadata": {},
     "output_type": "execute_result"
    }
   ],
   "source": [
    "# Transform training set into other format with each column is an unique word\n",
    "word_counts_per_sms = {unique_word: [0] * len(training_set['SMS']) for unique_word in vocabulary}\n",
    "for index,sms in enumerate(training_set['SMS_split']):\n",
    "    for word in sms:\n",
    "        word_counts_per_sms[word][index] += 1\n",
    "word_counts_per_sms['smth'][:5]"
   ]
  },
  {
   "cell_type": "code",
   "execution_count": 54,
   "metadata": {},
   "outputs": [
    {
     "data": {
      "text/html": [
       "<div>\n",
       "<style scoped>\n",
       "    .dataframe tbody tr th:only-of-type {\n",
       "        vertical-align: middle;\n",
       "    }\n",
       "\n",
       "    .dataframe tbody tr th {\n",
       "        vertical-align: top;\n",
       "    }\n",
       "\n",
       "    .dataframe thead th {\n",
       "        text-align: right;\n",
       "    }\n",
       "</style>\n",
       "<table border=\"1\" class=\"dataframe\">\n",
       "  <thead>\n",
       "    <tr style=\"text-align: right;\">\n",
       "      <th></th>\n",
       "      <th>Label</th>\n",
       "      <th>SMS</th>\n",
       "      <th>SMS_split</th>\n",
       "      <th>yep</th>\n",
       "      <th>by</th>\n",
       "      <th>the</th>\n",
       "      <th>pretty</th>\n",
       "      <th>sculpture</th>\n",
       "      <th>yes</th>\n",
       "      <th>princess</th>\n",
       "      <th>...</th>\n",
       "      <th>beauty</th>\n",
       "      <th>hides</th>\n",
       "      <th>secrets</th>\n",
       "      <th>n8</th>\n",
       "      <th>jewelry</th>\n",
       "      <th>related</th>\n",
       "      <th>trade</th>\n",
       "      <th>arul</th>\n",
       "      <th>bx526</th>\n",
       "      <th>wherre</th>\n",
       "    </tr>\n",
       "  </thead>\n",
       "  <tbody>\n",
       "    <tr>\n",
       "      <th>0</th>\n",
       "      <td>ham</td>\n",
       "      <td>Yep, by the pretty sculpture</td>\n",
       "      <td>[yep, by, the, pretty, sculpture]</td>\n",
       "      <td>1</td>\n",
       "      <td>1</td>\n",
       "      <td>1</td>\n",
       "      <td>1</td>\n",
       "      <td>1</td>\n",
       "      <td>0</td>\n",
       "      <td>0</td>\n",
       "      <td>...</td>\n",
       "      <td>0</td>\n",
       "      <td>0</td>\n",
       "      <td>0</td>\n",
       "      <td>0</td>\n",
       "      <td>0</td>\n",
       "      <td>0</td>\n",
       "      <td>0</td>\n",
       "      <td>0</td>\n",
       "      <td>0</td>\n",
       "      <td>0</td>\n",
       "    </tr>\n",
       "    <tr>\n",
       "      <th>1</th>\n",
       "      <td>ham</td>\n",
       "      <td>Yes, princess. Are you going to make me moan?</td>\n",
       "      <td>[yes, princess, are, you, going, to, make, me,...</td>\n",
       "      <td>0</td>\n",
       "      <td>0</td>\n",
       "      <td>0</td>\n",
       "      <td>0</td>\n",
       "      <td>0</td>\n",
       "      <td>1</td>\n",
       "      <td>1</td>\n",
       "      <td>...</td>\n",
       "      <td>0</td>\n",
       "      <td>0</td>\n",
       "      <td>0</td>\n",
       "      <td>0</td>\n",
       "      <td>0</td>\n",
       "      <td>0</td>\n",
       "      <td>0</td>\n",
       "      <td>0</td>\n",
       "      <td>0</td>\n",
       "      <td>0</td>\n",
       "    </tr>\n",
       "    <tr>\n",
       "      <th>2</th>\n",
       "      <td>ham</td>\n",
       "      <td>Welp apparently he retired</td>\n",
       "      <td>[welp, apparently, he, retired]</td>\n",
       "      <td>0</td>\n",
       "      <td>0</td>\n",
       "      <td>0</td>\n",
       "      <td>0</td>\n",
       "      <td>0</td>\n",
       "      <td>0</td>\n",
       "      <td>0</td>\n",
       "      <td>...</td>\n",
       "      <td>0</td>\n",
       "      <td>0</td>\n",
       "      <td>0</td>\n",
       "      <td>0</td>\n",
       "      <td>0</td>\n",
       "      <td>0</td>\n",
       "      <td>0</td>\n",
       "      <td>0</td>\n",
       "      <td>0</td>\n",
       "      <td>0</td>\n",
       "    </tr>\n",
       "    <tr>\n",
       "      <th>3</th>\n",
       "      <td>ham</td>\n",
       "      <td>Havent.</td>\n",
       "      <td>[havent]</td>\n",
       "      <td>0</td>\n",
       "      <td>0</td>\n",
       "      <td>0</td>\n",
       "      <td>0</td>\n",
       "      <td>0</td>\n",
       "      <td>0</td>\n",
       "      <td>0</td>\n",
       "      <td>...</td>\n",
       "      <td>0</td>\n",
       "      <td>0</td>\n",
       "      <td>0</td>\n",
       "      <td>0</td>\n",
       "      <td>0</td>\n",
       "      <td>0</td>\n",
       "      <td>0</td>\n",
       "      <td>0</td>\n",
       "      <td>0</td>\n",
       "      <td>0</td>\n",
       "    </tr>\n",
       "    <tr>\n",
       "      <th>4</th>\n",
       "      <td>ham</td>\n",
       "      <td>I forgot 2 ask ü all smth.. There's a card on ...</td>\n",
       "      <td>[i, forgot, 2, ask, ü, all, smth, there, s, a,...</td>\n",
       "      <td>0</td>\n",
       "      <td>0</td>\n",
       "      <td>0</td>\n",
       "      <td>0</td>\n",
       "      <td>0</td>\n",
       "      <td>0</td>\n",
       "      <td>0</td>\n",
       "      <td>...</td>\n",
       "      <td>0</td>\n",
       "      <td>0</td>\n",
       "      <td>0</td>\n",
       "      <td>0</td>\n",
       "      <td>0</td>\n",
       "      <td>0</td>\n",
       "      <td>0</td>\n",
       "      <td>0</td>\n",
       "      <td>0</td>\n",
       "      <td>0</td>\n",
       "    </tr>\n",
       "  </tbody>\n",
       "</table>\n",
       "<p>5 rows × 7786 columns</p>\n",
       "</div>"
      ],
      "text/plain": [
       "  Label                                                SMS  \\\n",
       "0   ham                       Yep, by the pretty sculpture   \n",
       "1   ham      Yes, princess. Are you going to make me moan?   \n",
       "2   ham                         Welp apparently he retired   \n",
       "3   ham                                            Havent.   \n",
       "4   ham  I forgot 2 ask ü all smth.. There's a card on ...   \n",
       "\n",
       "                                           SMS_split  yep  by  the  pretty  \\\n",
       "0                  [yep, by, the, pretty, sculpture]    1   1    1       1   \n",
       "1  [yes, princess, are, you, going, to, make, me,...    0   0    0       0   \n",
       "2                    [welp, apparently, he, retired]    0   0    0       0   \n",
       "3                                           [havent]    0   0    0       0   \n",
       "4  [i, forgot, 2, ask, ü, all, smth, there, s, a,...    0   0    0       0   \n",
       "\n",
       "   sculpture  yes  princess  ...  beauty  hides  secrets  n8  jewelry  \\\n",
       "0          1    0         0  ...       0      0        0   0        0   \n",
       "1          0    1         1  ...       0      0        0   0        0   \n",
       "2          0    0         0  ...       0      0        0   0        0   \n",
       "3          0    0         0  ...       0      0        0   0        0   \n",
       "4          0    0         0  ...       0      0        0   0        0   \n",
       "\n",
       "   related  trade  arul  bx526  wherre  \n",
       "0        0      0     0      0       0  \n",
       "1        0      0     0      0       0  \n",
       "2        0      0     0      0       0  \n",
       "3        0      0     0      0       0  \n",
       "4        0      0     0      0       0  \n",
       "\n",
       "[5 rows x 7786 columns]"
      ]
     },
     "execution_count": 54,
     "metadata": {},
     "output_type": "execute_result"
    }
   ],
   "source": [
    "word_counts = pd.DataFrame(word_counts_per_sms)\n",
    "training_set_final = pd.concat([training_set, word_counts], axis=1)\n",
    "training_set_final.head()"
   ]
  },
  {
   "cell_type": "code",
   "execution_count": 55,
   "metadata": {},
   "outputs": [
    {
     "name": "stdout",
     "output_type": "stream",
     "text": [
      "P(spam): 0.13458950201884254\n",
      "P(ham): 0.8654104979811574\n"
     ]
    }
   ],
   "source": [
    "p_spam = training_set_final['Label'].value_counts(normalize=True)['spam']\n",
    "p_ham = training_set_final['Label'].value_counts(normalize=True)['ham']\n",
    "print('P(spam): {}'.format(p_spam))\n",
    "print('P(ham): {}'.format(p_ham))"
   ]
  },
  {
   "cell_type": "code",
   "execution_count": 59,
   "metadata": {},
   "outputs": [
    {
     "name": "stdout",
     "output_type": "stream",
     "text": [
      "N(Spam): 15,190\n",
      "N(Ham): 57,237\n"
     ]
    }
   ],
   "source": [
    "spam_sms = training_set_final[training_set_final['Label']=='spam']\n",
    "ham_sms = training_set_final[training_set_final['Label']=='ham']\n",
    "\n",
    "n_spam = spam_sms['SMS_split'].apply(len).sum()\n",
    "n_ham = ham_sms['SMS_split'].apply(len).sum()\n",
    "\n",
    "print('N(Spam): {:,}'.format(n_spam))\n",
    "print('N(Ham): {:,}'.format(n_ham))"
   ]
  },
  {
   "cell_type": "code",
   "execution_count": 61,
   "metadata": {},
   "outputs": [
    {
     "data": {
      "text/plain": [
       "4.3529360553693465e-05"
      ]
     },
     "execution_count": 61,
     "metadata": {},
     "output_type": "execute_result"
    }
   ],
   "source": [
    "p_words_given_spam = {}\n",
    "p_words_given_ham = {}\n",
    "\n",
    "for word in vocabulary:\n",
    "    n_word_given_spam = spam_sms[word].sum()\n",
    "    p_words_given_spam[word] = (n_word_given_spam+1) / (n_spam+len(vocabulary))\n",
    "    \n",
    "    n_word_given_ham = ham_sms[word].sum()\n",
    "    p_words_given_ham[word] = (n_word_given_ham+1) / (n_ham+len(vocabulary))\n",
    "\n",
    "p_words_given_spam['smth']"
   ]
  },
  {
   "cell_type": "code",
   "execution_count": 104,
   "metadata": {},
   "outputs": [],
   "source": [
    "import re\n",
    "def classify(message):\n",
    "    sms = re.sub('\\W', ' ', message)\n",
    "    sms = sms.lower().split()\n",
    "    \n",
    "    p_spam_given_sms = p_spam\n",
    "    p_ham_given_sms = p_ham\n",
    "    \n",
    "    for word in sms:\n",
    "        if word in vocabulary:\n",
    "            p_spam_given_sms *= p_words_given_spam[word]\n",
    "            p_ham_given_sms *= p_words_given_ham[word]\n",
    "    print('P(Spam|Message): {}'.format(p_spam_given_sms))\n",
    "    print('P(Ham|Message): {}'.format(p_ham_given_sms))\n",
    "    if p_spam_given_sms > p_ham_given_sms:\n",
    "        print('Label: Spam')\n",
    "    elif p_spam_given_sms < p_ham_given_sms:\n",
    "        print('Label: Ham')\n",
    "    else:\n",
    "        print('Need human clarification!')"
   ]
  },
  {
   "cell_type": "code",
   "execution_count": 105,
   "metadata": {},
   "outputs": [
    {
     "name": "stdout",
     "output_type": "stream",
     "text": [
      "P(Spam|Message): 1.2853873686328375e-29\n",
      "P(Ham|Message): 1.9966832013159345e-24\n",
      "Label: Ham\n"
     ]
    }
   ],
   "source": [
    "classify(training_set_final[training_set_final['Label']=='ham']['SMS'].iloc[1])"
   ]
  },
  {
   "cell_type": "code",
   "execution_count": 106,
   "metadata": {},
   "outputs": [
    {
     "name": "stdout",
     "output_type": "stream",
     "text": [
      "P(Spam|Message): 6.202754805579458e-86\n",
      "P(Ham|Message): 1.125065771898147e-107\n",
      "Label: Spam\n"
     ]
    }
   ],
   "source": [
    "classify(training_set_final[training_set_final['Label']=='spam']['SMS'].iloc[1])"
   ]
  },
  {
   "cell_type": "code",
   "execution_count": 82,
   "metadata": {},
   "outputs": [
    {
     "data": {
      "text/html": [
       "<div>\n",
       "<style scoped>\n",
       "    .dataframe tbody tr th:only-of-type {\n",
       "        vertical-align: middle;\n",
       "    }\n",
       "\n",
       "    .dataframe tbody tr th {\n",
       "        vertical-align: top;\n",
       "    }\n",
       "\n",
       "    .dataframe thead th {\n",
       "        text-align: right;\n",
       "    }\n",
       "</style>\n",
       "<table border=\"1\" class=\"dataframe\">\n",
       "  <thead>\n",
       "    <tr style=\"text-align: right;\">\n",
       "      <th></th>\n",
       "      <th>Label</th>\n",
       "      <th>SMS</th>\n",
       "    </tr>\n",
       "  </thead>\n",
       "  <tbody>\n",
       "    <tr>\n",
       "      <th>0</th>\n",
       "      <td>ham</td>\n",
       "      <td>Aight should I just plan to come up later toni...</td>\n",
       "    </tr>\n",
       "    <tr>\n",
       "      <th>1</th>\n",
       "      <td>ham</td>\n",
       "      <td>Die... I accidentally deleted e msg i suppose ...</td>\n",
       "    </tr>\n",
       "    <tr>\n",
       "      <th>2</th>\n",
       "      <td>spam</td>\n",
       "      <td>Welcome to UK-mobile-date this msg is FREE giv...</td>\n",
       "    </tr>\n",
       "    <tr>\n",
       "      <th>3</th>\n",
       "      <td>ham</td>\n",
       "      <td>This is wishing you a great day. Moji told me ...</td>\n",
       "    </tr>\n",
       "    <tr>\n",
       "      <th>4</th>\n",
       "      <td>ham</td>\n",
       "      <td>Thanks again for your reply today. When is ur ...</td>\n",
       "    </tr>\n",
       "  </tbody>\n",
       "</table>\n",
       "</div>"
      ],
      "text/plain": [
       "  Label                                                SMS\n",
       "0   ham  Aight should I just plan to come up later toni...\n",
       "1   ham  Die... I accidentally deleted e msg i suppose ...\n",
       "2  spam  Welcome to UK-mobile-date this msg is FREE giv...\n",
       "3   ham  This is wishing you a great day. Moji told me ...\n",
       "4   ham  Thanks again for your reply today. When is ur ..."
      ]
     },
     "execution_count": 82,
     "metadata": {},
     "output_type": "execute_result"
    }
   ],
   "source": [
    "test_set.head()"
   ]
  },
  {
   "cell_type": "code",
   "execution_count": 93,
   "metadata": {},
   "outputs": [],
   "source": [
    "def classify_test(message):\n",
    "    sms = re.sub('\\W', ' ', message)\n",
    "    sms = sms.lower().split()\n",
    "    \n",
    "    p_spam_given_sms = p_spam\n",
    "    p_ham_given_sms = p_ham\n",
    "    \n",
    "    for word in sms:\n",
    "        if word in vocabulary:\n",
    "            p_spam_given_sms *= p_words_given_spam[word]\n",
    "            p_ham_given_sms *= p_words_given_ham[word]\n",
    "    \n",
    "    if p_spam_given_sms > p_ham_given_sms:\n",
    "        return 'spam'\n",
    "    elif p_spam_given_sms < p_ham_given_sms:\n",
    "        return 'ham'\n",
    "    else:\n",
    "        return 'Need human clarification!'"
   ]
  },
  {
   "cell_type": "code",
   "execution_count": 94,
   "metadata": {},
   "outputs": [
    {
     "data": {
      "text/html": [
       "<div>\n",
       "<style scoped>\n",
       "    .dataframe tbody tr th:only-of-type {\n",
       "        vertical-align: middle;\n",
       "    }\n",
       "\n",
       "    .dataframe tbody tr th {\n",
       "        vertical-align: top;\n",
       "    }\n",
       "\n",
       "    .dataframe thead th {\n",
       "        text-align: right;\n",
       "    }\n",
       "</style>\n",
       "<table border=\"1\" class=\"dataframe\">\n",
       "  <thead>\n",
       "    <tr style=\"text-align: right;\">\n",
       "      <th></th>\n",
       "      <th>Label</th>\n",
       "      <th>SMS</th>\n",
       "      <th>predict</th>\n",
       "    </tr>\n",
       "  </thead>\n",
       "  <tbody>\n",
       "    <tr>\n",
       "      <th>1109</th>\n",
       "      <td>spam</td>\n",
       "      <td>This is the 2nd time we have tried 2 contact u...</td>\n",
       "      <td>spam</td>\n",
       "    </tr>\n",
       "    <tr>\n",
       "      <th>1110</th>\n",
       "      <td>ham</td>\n",
       "      <td>Will ü b going to esplanade fr home?</td>\n",
       "      <td>ham</td>\n",
       "    </tr>\n",
       "    <tr>\n",
       "      <th>1111</th>\n",
       "      <td>ham</td>\n",
       "      <td>Pity, * was in mood for that. So...any other s...</td>\n",
       "      <td>ham</td>\n",
       "    </tr>\n",
       "    <tr>\n",
       "      <th>1112</th>\n",
       "      <td>ham</td>\n",
       "      <td>The guy did some bitching but I acted like i'd...</td>\n",
       "      <td>ham</td>\n",
       "    </tr>\n",
       "    <tr>\n",
       "      <th>1113</th>\n",
       "      <td>ham</td>\n",
       "      <td>Rofl. Its true to its name</td>\n",
       "      <td>ham</td>\n",
       "    </tr>\n",
       "  </tbody>\n",
       "</table>\n",
       "</div>"
      ],
      "text/plain": [
       "     Label                                                SMS predict\n",
       "1109  spam  This is the 2nd time we have tried 2 contact u...    spam\n",
       "1110   ham               Will ü b going to esplanade fr home?     ham\n",
       "1111   ham  Pity, * was in mood for that. So...any other s...     ham\n",
       "1112   ham  The guy did some bitching but I acted like i'd...     ham\n",
       "1113   ham                         Rofl. Its true to its name     ham"
      ]
     },
     "execution_count": 94,
     "metadata": {},
     "output_type": "execute_result"
    }
   ],
   "source": [
    "test_set['predict'] = test_set['SMS'].apply(classify_test)\n",
    "test_set.tail()"
   ]
  },
  {
   "cell_type": "code",
   "execution_count": 99,
   "metadata": {},
   "outputs": [
    {
     "name": "stdout",
     "output_type": "stream",
     "text": [
      "Number of Correct: 1,104\n",
      "Accuracy Ratio: 99.10%\n"
     ]
    }
   ],
   "source": [
    "correct = 0\n",
    "total = test_set.shape[0]\n",
    "\n",
    "for row in test_set.iterrows():\n",
    "    row = row[1]\n",
    "    if row['Label'] == row['predict']:\n",
    "        correct += 1\n",
    "print('Number of Correct: {:,}'.format(correct))\n",
    "print('Accuracy Ratio: {:,.2f}%'.format(correct/total*100))"
   ]
  },
  {
   "cell_type": "code",
   "execution_count": 102,
   "metadata": {},
   "outputs": [
    {
     "data": {
      "text/html": [
       "<div>\n",
       "<style scoped>\n",
       "    .dataframe tbody tr th:only-of-type {\n",
       "        vertical-align: middle;\n",
       "    }\n",
       "\n",
       "    .dataframe tbody tr th {\n",
       "        vertical-align: top;\n",
       "    }\n",
       "\n",
       "    .dataframe thead th {\n",
       "        text-align: right;\n",
       "    }\n",
       "</style>\n",
       "<table border=\"1\" class=\"dataframe\">\n",
       "  <thead>\n",
       "    <tr style=\"text-align: right;\">\n",
       "      <th></th>\n",
       "      <th>Label</th>\n",
       "      <th>SMS</th>\n",
       "      <th>predict</th>\n",
       "    </tr>\n",
       "  </thead>\n",
       "  <tbody>\n",
       "    <tr>\n",
       "      <th>56</th>\n",
       "      <td>spam</td>\n",
       "      <td>Money i have won wining number 946 wot do i do...</td>\n",
       "      <td>ham</td>\n",
       "    </tr>\n",
       "    <tr>\n",
       "      <th>99</th>\n",
       "      <td>ham</td>\n",
       "      <td>Gettin rdy to ship comp</td>\n",
       "      <td>spam</td>\n",
       "    </tr>\n",
       "    <tr>\n",
       "      <th>142</th>\n",
       "      <td>ham</td>\n",
       "      <td>Have you laid your airtel line to rest?</td>\n",
       "      <td>spam</td>\n",
       "    </tr>\n",
       "    <tr>\n",
       "      <th>218</th>\n",
       "      <td>spam</td>\n",
       "      <td>Hi babe its Chloe, how r u? I was smashed on s...</td>\n",
       "      <td>ham</td>\n",
       "    </tr>\n",
       "    <tr>\n",
       "      <th>245</th>\n",
       "      <td>ham</td>\n",
       "      <td>Anytime...</td>\n",
       "      <td>spam</td>\n",
       "    </tr>\n",
       "    <tr>\n",
       "      <th>404</th>\n",
       "      <td>ham</td>\n",
       "      <td>Nokia phone is lovly..</td>\n",
       "      <td>spam</td>\n",
       "    </tr>\n",
       "    <tr>\n",
       "      <th>491</th>\n",
       "      <td>spam</td>\n",
       "      <td>Hi this is Amy, we will be sending you a free ...</td>\n",
       "      <td>ham</td>\n",
       "    </tr>\n",
       "    <tr>\n",
       "      <th>588</th>\n",
       "      <td>ham</td>\n",
       "      <td>We have sent JD for Customer Service cum Accou...</td>\n",
       "      <td>spam</td>\n",
       "    </tr>\n",
       "    <tr>\n",
       "      <th>646</th>\n",
       "      <td>ham</td>\n",
       "      <td>A Boy loved a gal. He propsd bt she didnt mind...</td>\n",
       "      <td>Need human clarification!</td>\n",
       "    </tr>\n",
       "    <tr>\n",
       "      <th>912</th>\n",
       "      <td>spam</td>\n",
       "      <td>dating:i have had two of these. Only started a...</td>\n",
       "      <td>ham</td>\n",
       "    </tr>\n",
       "  </tbody>\n",
       "</table>\n",
       "</div>"
      ],
      "text/plain": [
       "    Label                                                SMS  \\\n",
       "56   spam  Money i have won wining number 946 wot do i do...   \n",
       "99    ham                            Gettin rdy to ship comp   \n",
       "142   ham            Have you laid your airtel line to rest?   \n",
       "218  spam  Hi babe its Chloe, how r u? I was smashed on s...   \n",
       "245   ham                                         Anytime...   \n",
       "404   ham                             Nokia phone is lovly..   \n",
       "491  spam  Hi this is Amy, we will be sending you a free ...   \n",
       "588   ham  We have sent JD for Customer Service cum Accou...   \n",
       "646   ham  A Boy loved a gal. He propsd bt she didnt mind...   \n",
       "912  spam  dating:i have had two of these. Only started a...   \n",
       "\n",
       "                       predict  \n",
       "56                         ham  \n",
       "99                        spam  \n",
       "142                       spam  \n",
       "218                        ham  \n",
       "245                       spam  \n",
       "404                       spam  \n",
       "491                        ham  \n",
       "588                       spam  \n",
       "646  Need human clarification!  \n",
       "912                        ham  "
      ]
     },
     "execution_count": 102,
     "metadata": {},
     "output_type": "execute_result"
    }
   ],
   "source": [
    "incorrect_set = test_set[test_set['Label'] != test_set['predict']]\n",
    "incorrect_set"
   ]
  },
  {
   "cell_type": "code",
   "execution_count": 119,
   "metadata": {},
   "outputs": [],
   "source": [
    "def p_detail(message):\n",
    "    \n",
    "    print(message, '\\n')\n",
    "    sms = re.sub('\\W', ' ', message)\n",
    "    sms = sms.lower().split()\n",
    "    \n",
    "    for word in sms:\n",
    "        print('P({w}|Spam): {p}'.format(w=word, p=p_words_given_spam[word]))\n",
    "        print('P({w}|Ham): {p}'.format(w=word, p=p_words_given_ham[word]))\n",
    "    print('\\n')\n",
    "    classify(message)"
   ]
  },
  {
   "cell_type": "code",
   "execution_count": 120,
   "metadata": {},
   "outputs": [
    {
     "name": "stdout",
     "output_type": "stream",
     "text": [
      "Money i have won wining number 946 wot do i do next \n",
      "\n",
      "P(money|Spam): 0.00021764680276846734\n",
      "P(money|Ham): 0.0006920947400799754\n",
      "P(i|Spam): 0.002219997388238367\n",
      "P(i|Ham): 0.0369424792371578\n",
      "P(have|Spam): 0.004875288382013668\n",
      "P(have|Ham): 0.0055059981544140265\n",
      "P(won|Spam): 0.0026988203543289947\n",
      "P(won|Ham): 0.00024607812980621346\n",
      "P(wining|Spam): 8.705872110738693e-05\n",
      "P(wining|Ham): 1.537988311288834e-05\n",
      "P(number|Spam): 0.0011752927349497236\n",
      "P(number|Ham): 0.0008458935712088588\n",
      "P(946|Spam): 8.705872110738693e-05\n",
      "P(946|Ham): 1.537988311288834e-05\n",
      "P(wot|Spam): 8.705872110738693e-05\n",
      "P(wot|Ham): 0.0002922177791448785\n",
      "P(do|Spam): 0.0010447046532886433\n",
      "P(do|Ham): 0.004860043063672716\n",
      "P(i|Spam): 0.002219997388238367\n",
      "P(i|Ham): 0.0369424792371578\n",
      "P(do|Spam): 0.0010447046532886433\n",
      "P(do|Ham): 0.004860043063672716\n",
      "P(next|Spam): 0.000565881687198015\n",
      "P(next|Ham): 0.0004921562596124269\n",
      "\n",
      "\n",
      "P(Spam|Message): 9.097839917029218e-40\n",
      "P(Ham|Message): 7.527669451157541e-37\n",
      "Label: Ham\n"
     ]
    }
   ],
   "source": [
    "p_detail(incorrect_set['SMS'].iloc[0])"
   ]
  },
  {
   "cell_type": "code",
   "execution_count": 123,
   "metadata": {},
   "outputs": [
    {
     "name": "stdout",
     "output_type": "stream",
     "text": [
      "P(Spam|Message): 7.78241441621437e-19\n",
      "P(Ham|Message): 9.021395929282776e-20\n",
      "Label: Spam\n"
     ]
    }
   ],
   "source": [
    "classify('Winner! You got a big prize!!!')"
   ]
  },
  {
   "cell_type": "code",
   "execution_count": 127,
   "metadata": {},
   "outputs": [
    {
     "name": "stdout",
     "output_type": "stream",
     "text": [
      "to 546\n"
     ]
    }
   ],
   "source": [
    "n_spam_word = {}\n",
    "n_ham_word = {}\n",
    "for word in vocabulary:\n",
    "    n_spam_word[word] = spam_sms[word].sum()\n",
    "    n_ham_word[word] = ham_sms[word].sum()\n",
    "    \n",
    "print(max(n_spam_word, key=n_spam_word.get), n_spam_word[max(n_spam_word, key=n_spam_word.get)])"
   ]
  },
  {
   "cell_type": "code",
   "execution_count": 128,
   "metadata": {},
   "outputs": [
    {
     "name": "stdout",
     "output_type": "stream",
     "text": [
      "i 2401\n"
     ]
    }
   ],
   "source": [
    "print(max(n_ham_word, key=n_ham_word.get), n_ham_word[max(n_ham_word, key=n_ham_word.get)])"
   ]
  },
  {
   "cell_type": "code",
   "execution_count": null,
   "metadata": {},
   "outputs": [],
   "source": []
  }
 ],
 "metadata": {
  "kernelspec": {
   "display_name": "Python 3",
   "language": "python",
   "name": "python3"
  },
  "language_info": {
   "codemirror_mode": {
    "name": "ipython",
    "version": 3
   },
   "file_extension": ".py",
   "mimetype": "text/x-python",
   "name": "python",
   "nbconvert_exporter": "python",
   "pygments_lexer": "ipython3",
   "version": "3.7.3"
  }
 },
 "nbformat": 4,
 "nbformat_minor": 2
}
